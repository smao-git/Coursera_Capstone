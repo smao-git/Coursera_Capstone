{
    "nbformat_minor": 1, 
    "cells": [
        {
            "source": "1. Introduction", 
            "cell_type": "markdown", 
            "metadata": {
                "collapsed": true
            }
        }, 
        {
            "source": "Where to open a new Chinese resturant in Manhattan New York? Is Chinatown still a good location? This analysis conclusion will give a helpful recommendation. \nMany visitors usually go to Chinatown in New York City to enjoy good Chinese food. However, the general quality is not always good as expected due to limited restaurants in the crowded streets. To open a new Chinese restaurant, there is an good idea now! Some other neighborhoods might be better choices. A analysis will be performed using the statistics of Foursquare location data and will provide a recommendation for a better location for a new restaurant. ", 
            "cell_type": "raw", 
            "metadata": {}
        }, 
        {
            "source": "2. Data", 
            "cell_type": "markdown", 
            "metadata": {}
        }, 
        {
            "source": "The data source is Manhattan venues data taken from Foursquare location data, then examining the frequency of Chinese restaurant in each neighborhood along with the top 10 most common venues. Analyzing the total numbers of existing Chinese restaurant from the Manhattan venue data, then find the better neighborhood for the new restaurant. ", 
            "cell_type": "raw", 
            "metadata": {}
        }, 
        {
            "execution_count": null, 
            "cell_type": "code", 
            "metadata": {}, 
            "outputs": [], 
            "source": ""
        }
    ], 
    "metadata": {
        "kernelspec": {
            "display_name": "Python 3.5", 
            "name": "python3", 
            "language": "python"
        }, 
        "language_info": {
            "mimetype": "text/x-python", 
            "nbconvert_exporter": "python", 
            "version": "3.5.5", 
            "name": "python", 
            "file_extension": ".py", 
            "pygments_lexer": "ipython3", 
            "codemirror_mode": {
                "version": 3, 
                "name": "ipython"
            }
        }
    }, 
    "nbformat": 4
}