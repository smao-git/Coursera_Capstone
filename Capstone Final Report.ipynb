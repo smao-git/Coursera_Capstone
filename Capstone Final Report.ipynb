{
    "nbformat_minor": 1, 
    "cells": [
        {
            "source": "# Final report", 
            "cell_type": "markdown", 
            "metadata": {
                "collapsed": true
            }
        }, 
        {
            "source": "1. Introduction", 
            "cell_type": "markdown", 
            "metadata": {}
        }, 
        {
            "source": "Where to open a new Chinese restaurant in Manhattan New York? Is Chinatown still a good location? This analysis conclusion will give a helpful recommendation. \nMany visitors usually go to Chinatown in New York City to enjoy good Chinese food. However, the general quality is not always as good as expected due to limited restaurants in the crowded streets. To open a new Chinese restaurant, there is an good idea now! Some other neighborhoods might be better choices. An analysis will be performed using the statistics of Foursquare location data and will provide a recommendation for a better location for a new restaurant. ", 
            "cell_type": "raw", 
            "metadata": {}
        }, 
        {
            "source": "2. Data", 
            "cell_type": "markdown", 
            "metadata": {}
        }, 
        {
            "source": "The data source is Manhattan venues data taken from Foursquare location data, then examining the frequency of Chinese restaurant in each neighborhood along with the top 10 most common venues. Analyzing the total numbers of existing Chinese restaurant from the Manhattan venue data, then find the better neighborhood for the new restaurant.  ", 
            "cell_type": "raw", 
            "metadata": {}
        }, 
        {
            "source": "3. Methodology", 
            "cell_type": "markdown", 
            "metadata": {}
        }, 
        {
            "source": "The overall analysis is based upon the Chinese restaurant data in Manhattan, NY. First, a dataframe of the Manhattan data was created by using the provided New York data, which includes the geographical coordinates of all 40 neighborhoods in Manhattan. Then, the top 100 venues that are in each neighborhood within a radius of 500 meters are identified by requesting from Foursquare API and then create a new dataframe for Manhattan_venue. Finally, the sub dataset for manhattan_chinese_restaurant was created by the venue category filter from Manhattan_venue dataframe.\nBy analyzing the data in manhattan_chinese_restaurant, find the neighborhoods in which the Chinese restaurant is within the top 10 most common venues, total number of Chinese restaurants in each neighborhood and the occurrence frequency in that neighborhood.", 
            "cell_type": "raw", 
            "metadata": {}
        }, 
        {
            "source": "4. Results", 
            "cell_type": "markdown", 
            "metadata": {}
        }, 
        {
            "source": "The Chinese resturant shows up within top 10 common veneus(ordered from 0 to 9) in 10 neighborhoods. It is the first most common in Chinatown and the second most common in Central Harlem. The normalized_freq is the frequency divided by the num_venues( total number of Chinese resturants) in each neighborhood.\n\nNeighborhood          freq   num_top in Neighborhood   num_venues normalized-freq\nCentral Harlem        0.05      1 ( 2nd most common)       2                0.025\nChinatown             0.09      0 ( 1st most common)       9                0.01\nEast Harlem           0.02      6 ( 7st most common)       1                0.02\nEast Village          0.03      8 ( 9st most common)       3                0.01\nGreenwich Village     0.03      7 ( 8st most common)       3                0.01\nHamilton Heights      0.05      5 ( 6st most common)       3                0.017\nInwood                0.04      8 ( 9st most common)       2                0.02\nLittle Italy          0.02      9 (10st most common)       2                0.01\nLower East Side       0.03      5 ( 6st most common)       2                0.15\nManhattanville        0.03      4 ( 5st most common)       1                0.03", 
            "cell_type": "raw", 
            "metadata": {}
        }, 
        {
            "source": "5. Discussion", 
            "cell_type": "markdown", 
            "metadata": {}
        }, 
        {
            "source": "The neighborhood of Central Harlem is the recommendation of location for the new Chiese restaurant. Although the Chinese restaurant is the first most common venue in Chinatown the normalized frequency is low due to too many existing restaurants. It has a higher normalized frequency in Manhattanvile, but the demand seems low, just 5th most common. However, the higher demand in Central Harlem looks likely having more supplies.\n", 
            "cell_type": "raw", 
            "metadata": {}
        }, 
        {
            "execution_count": null, 
            "cell_type": "code", 
            "metadata": {}, 
            "outputs": [], 
            "source": "6. Conclusion"
        }
    ], 
    "metadata": {
        "kernelspec": {
            "display_name": "Python 3.5", 
            "name": "python3", 
            "language": "python"
        }, 
        "language_info": {
            "mimetype": "text/x-python", 
            "nbconvert_exporter": "python", 
            "version": "3.5.5", 
            "name": "python", 
            "file_extension": ".py", 
            "pygments_lexer": "ipython3", 
            "codemirror_mode": {
                "version": 3, 
                "name": "ipython"
            }
        }
    }, 
    "nbformat": 4
}